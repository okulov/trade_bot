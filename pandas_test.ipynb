{
 "cells": [
  {
   "cell_type": "code",
   "execution_count": 102,
   "metadata": {},
   "outputs": [],
   "source": [
    "import pandas as pd\n",
    "import numpy as np\n",
    "data = pd.read_csv('journals/orders_06_04_21_22_55.csv')"
   ]
  },
  {
   "cell_type": "code",
   "execution_count": 103,
   "metadata": {},
   "outputs": [
    {
     "data": {
      "text/html": [
       "<div>\n",
       "<style scoped>\n",
       "    .dataframe tbody tr th:only-of-type {\n",
       "        vertical-align: middle;\n",
       "    }\n",
       "\n",
       "    .dataframe tbody tr th {\n",
       "        vertical-align: top;\n",
       "    }\n",
       "\n",
       "    .dataframe thead th {\n",
       "        text-align: right;\n",
       "    }\n",
       "</style>\n",
       "<table border=\"1\" class=\"dataframe\">\n",
       "  <thead>\n",
       "    <tr style=\"text-align: right;\">\n",
       "      <th></th>\n",
       "      <th>date</th>\n",
       "      <th>price</th>\n",
       "      <th>amount</th>\n",
       "      <th>action</th>\n",
       "      <th>sum</th>\n",
       "      <th>status</th>\n",
       "      <th>source</th>\n",
       "      <th>income</th>\n",
       "      <th>balance</th>\n",
       "    </tr>\n",
       "  </thead>\n",
       "  <tbody>\n",
       "    <tr>\n",
       "      <th>0</th>\n",
       "      <td>2021-01-28 14:00:00</td>\n",
       "      <td>266.60</td>\n",
       "      <td>100</td>\n",
       "      <td>buy</td>\n",
       "      <td>-26660.0</td>\n",
       "      <td>open</td>\n",
       "      <td>strategy</td>\n",
       "      <td>0.0</td>\n",
       "      <td>-26660.0</td>\n",
       "    </tr>\n",
       "    <tr>\n",
       "      <th>1</th>\n",
       "      <td>2021-01-28 14:00:00</td>\n",
       "      <td>265.80</td>\n",
       "      <td>100</td>\n",
       "      <td>sell</td>\n",
       "      <td>26580.0</td>\n",
       "      <td>close</td>\n",
       "      <td>stop_loss</td>\n",
       "      <td>-80.0</td>\n",
       "      <td>-80.0</td>\n",
       "    </tr>\n",
       "    <tr>\n",
       "      <th>2</th>\n",
       "      <td>2021-01-28 15:00:00</td>\n",
       "      <td>266.27</td>\n",
       "      <td>100</td>\n",
       "      <td>buy</td>\n",
       "      <td>-26627.0</td>\n",
       "      <td>open</td>\n",
       "      <td>strategy</td>\n",
       "      <td>0.0</td>\n",
       "      <td>-26707.0</td>\n",
       "    </tr>\n",
       "    <tr>\n",
       "      <th>3</th>\n",
       "      <td>2021-01-28 15:00:00</td>\n",
       "      <td>265.47</td>\n",
       "      <td>100</td>\n",
       "      <td>sell</td>\n",
       "      <td>26547.0</td>\n",
       "      <td>close</td>\n",
       "      <td>stop_loss</td>\n",
       "      <td>-80.0</td>\n",
       "      <td>-160.0</td>\n",
       "    </tr>\n",
       "    <tr>\n",
       "      <th>4</th>\n",
       "      <td>2021-01-28 16:00:00</td>\n",
       "      <td>265.00</td>\n",
       "      <td>100</td>\n",
       "      <td>buy</td>\n",
       "      <td>-26500.0</td>\n",
       "      <td>open</td>\n",
       "      <td>strategy</td>\n",
       "      <td>0.0</td>\n",
       "      <td>-26660.0</td>\n",
       "    </tr>\n",
       "  </tbody>\n",
       "</table>\n",
       "</div>"
      ],
      "text/plain": [
       "                  date   price  amount action      sum status     source  \\\n",
       "0  2021-01-28 14:00:00  266.60     100    buy -26660.0   open   strategy   \n",
       "1  2021-01-28 14:00:00  265.80     100   sell  26580.0  close  stop_loss   \n",
       "2  2021-01-28 15:00:00  266.27     100    buy -26627.0   open   strategy   \n",
       "3  2021-01-28 15:00:00  265.47     100   sell  26547.0  close  stop_loss   \n",
       "4  2021-01-28 16:00:00  265.00     100    buy -26500.0   open   strategy   \n",
       "\n",
       "   income  balance  \n",
       "0     0.0 -26660.0  \n",
       "1   -80.0    -80.0  \n",
       "2     0.0 -26707.0  \n",
       "3   -80.0   -160.0  \n",
       "4     0.0 -26660.0  "
      ]
     },
     "execution_count": 103,
     "metadata": {},
     "output_type": "execute_result"
    }
   ],
   "source": [
    "data.head()"
   ]
  },
  {
   "cell_type": "code",
   "execution_count": 126,
   "metadata": {},
   "outputs": [
    {
     "data": {
      "text/html": [
       "<div>\n",
       "<style scoped>\n",
       "    .dataframe tbody tr th:only-of-type {\n",
       "        vertical-align: middle;\n",
       "    }\n",
       "\n",
       "    .dataframe tbody tr th {\n",
       "        vertical-align: top;\n",
       "    }\n",
       "\n",
       "    .dataframe thead th {\n",
       "        text-align: right;\n",
       "    }\n",
       "</style>\n",
       "<table border=\"1\" class=\"dataframe\">\n",
       "  <thead>\n",
       "    <tr style=\"text-align: right;\">\n",
       "      <th></th>\n",
       "      <th>date</th>\n",
       "      <th>price</th>\n",
       "      <th>amount</th>\n",
       "      <th>action</th>\n",
       "      <th>sum</th>\n",
       "      <th>status</th>\n",
       "      <th>source</th>\n",
       "      <th>income</th>\n",
       "      <th>balance</th>\n",
       "    </tr>\n",
       "  </thead>\n",
       "  <tbody>\n",
       "    <tr>\n",
       "      <th>372</th>\n",
       "      <td>2021-04-06 08:00:00</td>\n",
       "      <td>284.91</td>\n",
       "      <td>100</td>\n",
       "      <td>sell</td>\n",
       "      <td>28491.0</td>\n",
       "      <td>open</td>\n",
       "      <td>strategy</td>\n",
       "      <td>0.0</td>\n",
       "      <td>31783.0</td>\n",
       "    </tr>\n",
       "    <tr>\n",
       "      <th>373</th>\n",
       "      <td>2021-04-06 14:00:00</td>\n",
       "      <td>283.10</td>\n",
       "      <td>100</td>\n",
       "      <td>buy</td>\n",
       "      <td>-28310.0</td>\n",
       "      <td>close</td>\n",
       "      <td>strategy</td>\n",
       "      <td>181.0</td>\n",
       "      <td>3473.0</td>\n",
       "    </tr>\n",
       "    <tr>\n",
       "      <th>374</th>\n",
       "      <td>2021-04-06 15:00:00</td>\n",
       "      <td>282.20</td>\n",
       "      <td>100</td>\n",
       "      <td>sell</td>\n",
       "      <td>28220.0</td>\n",
       "      <td>open</td>\n",
       "      <td>strategy</td>\n",
       "      <td>0.0</td>\n",
       "      <td>31693.0</td>\n",
       "    </tr>\n",
       "    <tr>\n",
       "      <th>375</th>\n",
       "      <td>2021-04-06 16:00:00</td>\n",
       "      <td>282.22</td>\n",
       "      <td>100</td>\n",
       "      <td>buy</td>\n",
       "      <td>-28222.0</td>\n",
       "      <td>close</td>\n",
       "      <td>strategy</td>\n",
       "      <td>-2.0</td>\n",
       "      <td>3471.0</td>\n",
       "    </tr>\n",
       "    <tr>\n",
       "      <th>376</th>\n",
       "      <td>2021-04-06 17:00:00</td>\n",
       "      <td>282.75</td>\n",
       "      <td>100</td>\n",
       "      <td>buy</td>\n",
       "      <td>-28275.0</td>\n",
       "      <td>open</td>\n",
       "      <td>strategy</td>\n",
       "      <td>0.0</td>\n",
       "      <td>-24804.0</td>\n",
       "    </tr>\n",
       "  </tbody>\n",
       "</table>\n",
       "</div>"
      ],
      "text/plain": [
       "                   date   price  amount action      sum status    source  \\\n",
       "372 2021-04-06 08:00:00  284.91     100   sell  28491.0   open  strategy   \n",
       "373 2021-04-06 14:00:00  283.10     100    buy -28310.0  close  strategy   \n",
       "374 2021-04-06 15:00:00  282.20     100   sell  28220.0   open  strategy   \n",
       "375 2021-04-06 16:00:00  282.22     100    buy -28222.0  close  strategy   \n",
       "376 2021-04-06 17:00:00  282.75     100    buy -28275.0   open  strategy   \n",
       "\n",
       "     income  balance  \n",
       "372     0.0  31783.0  \n",
       "373   181.0   3473.0  \n",
       "374     0.0  31693.0  \n",
       "375    -2.0   3471.0  \n",
       "376     0.0 -24804.0  "
      ]
     },
     "execution_count": 126,
     "metadata": {},
     "output_type": "execute_result"
    }
   ],
   "source": [
    "data.tail()"
   ]
  },
  {
   "cell_type": "code",
   "execution_count": 105,
   "metadata": {},
   "outputs": [
    {
     "data": {
      "text/plain": [
       "15.384615384615385"
      ]
     },
     "execution_count": 105,
     "metadata": {},
     "output_type": "execute_result"
    }
   ],
   "source": [
    "len(data[data['income']>0])/len(data)*100"
   ]
  },
  {
   "cell_type": "code",
   "execution_count": 106,
   "metadata": {},
   "outputs": [
    {
     "data": {
      "text/plain": [
       "28.12"
      ]
     },
     "execution_count": 106,
     "metadata": {},
     "output_type": "execute_result"
    }
   ],
   "source": [
    "round(len(data[data['source']=='stop_loss'])/len(data)*100, 2)"
   ]
  },
  {
   "cell_type": "code",
   "execution_count": 107,
   "metadata": {},
   "outputs": [
    {
     "data": {
      "text/plain": [
       "2.39"
      ]
     },
     "execution_count": 107,
     "metadata": {},
     "output_type": "execute_result"
    }
   ],
   "source": [
    "round(len(data[data['source']=='take_profit'])/len(data)*100, 2)"
   ]
  },
  {
   "cell_type": "code",
   "execution_count": 108,
   "metadata": {},
   "outputs": [
    {
     "data": {
      "text/plain": [
       "-83.26415094339623"
      ]
     },
     "execution_count": 108,
     "metadata": {},
     "output_type": "execute_result"
    }
   ],
   "source": [
    "np.mean(data[data['source']=='stop_loss']['income'])"
   ]
  },
  {
   "cell_type": "code",
   "execution_count": 109,
   "metadata": {},
   "outputs": [
    {
     "data": {
      "text/plain": [
       "552.2222222222222"
      ]
     },
     "execution_count": 109,
     "metadata": {},
     "output_type": "execute_result"
    }
   ],
   "source": [
    "np.mean(data[data['source']=='take_profit']['income'])"
   ]
  },
  {
   "cell_type": "code",
   "execution_count": 110,
   "metadata": {},
   "outputs": [
    {
     "data": {
      "text/plain": [
       "30131.0"
      ]
     },
     "execution_count": 110,
     "metadata": {},
     "output_type": "execute_result"
    }
   ],
   "source": [
    "data['balance'][-2:-1].values[0] - data['balance'][0:1].values[0]"
   ]
  },
  {
   "cell_type": "code",
   "execution_count": 111,
   "metadata": {},
   "outputs": [
    {
     "data": {
      "text/plain": [
       "3471.0"
      ]
     },
     "execution_count": 111,
     "metadata": {},
     "output_type": "execute_result"
    }
   ],
   "source": [
    "data['balance'][-2:].values[0]"
   ]
  },
  {
   "cell_type": "code",
   "execution_count": 112,
   "metadata": {},
   "outputs": [
    {
     "data": {
      "text/plain": [
       "3471.0"
      ]
     },
     "execution_count": 112,
     "metadata": {},
     "output_type": "execute_result"
    }
   ],
   "source": [
    "data['balance'][-2:-1].values[0]"
   ]
  },
  {
   "cell_type": "code",
   "execution_count": 113,
   "metadata": {},
   "outputs": [],
   "source": [
    "q = data['balance'][-1:].values[0] if data['status'][-1:].values[0]=='close' else data['balance'][-2:-1].values[0]"
   ]
  },
  {
   "cell_type": "code",
   "execution_count": 114,
   "metadata": {},
   "outputs": [
    {
     "data": {
      "text/plain": [
       "3471.0"
      ]
     },
     "execution_count": 114,
     "metadata": {},
     "output_type": "execute_result"
    }
   ],
   "source": [
    "q"
   ]
  },
  {
   "cell_type": "code",
   "execution_count": 124,
   "metadata": {},
   "outputs": [
    {
     "data": {
      "text/html": [
       "<div>\n",
       "<style scoped>\n",
       "    .dataframe tbody tr th:only-of-type {\n",
       "        vertical-align: middle;\n",
       "    }\n",
       "\n",
       "    .dataframe tbody tr th {\n",
       "        vertical-align: top;\n",
       "    }\n",
       "\n",
       "    .dataframe thead th {\n",
       "        text-align: right;\n",
       "    }\n",
       "</style>\n",
       "<table border=\"1\" class=\"dataframe\">\n",
       "  <thead>\n",
       "    <tr style=\"text-align: right;\">\n",
       "      <th></th>\n",
       "      <th>date</th>\n",
       "      <th>activeMembersSum</th>\n",
       "      <th>activeMembersAverage</th>\n",
       "    </tr>\n",
       "  </thead>\n",
       "  <tbody>\n",
       "    <tr>\n",
       "      <th>0</th>\n",
       "      <td>2021-01</td>\n",
       "      <td>-73.0</td>\n",
       "      <td>-12.166667</td>\n",
       "    </tr>\n",
       "    <tr>\n",
       "      <th>1</th>\n",
       "      <td>2021-02</td>\n",
       "      <td>592.0</td>\n",
       "      <td>6.883721</td>\n",
       "    </tr>\n",
       "    <tr>\n",
       "      <th>2</th>\n",
       "      <td>2021-03</td>\n",
       "      <td>2378.0</td>\n",
       "      <td>27.976471</td>\n",
       "    </tr>\n",
       "    <tr>\n",
       "      <th>3</th>\n",
       "      <td>2021-04</td>\n",
       "      <td>574.0</td>\n",
       "      <td>52.181818</td>\n",
       "    </tr>\n",
       "  </tbody>\n",
       "</table>\n",
       "</div>"
      ],
      "text/plain": [
       "      date  activeMembersSum  activeMembersAverage\n",
       "0  2021-01             -73.0            -12.166667\n",
       "1  2021-02             592.0              6.883721\n",
       "2  2021-03            2378.0             27.976471\n",
       "3  2021-04             574.0             52.181818"
      ]
     },
     "execution_count": 124,
     "metadata": {},
     "output_type": "execute_result"
    }
   ],
   "source": [
    "data['date'] = pd.to_datetime(data['date'])\n",
    "date_close = data[data['status']=='close']\n",
    "\n",
    "(date_close.groupby([date_close.date.dt.strftime('%Y-%m')], sort=True)\n",
    "           .income.agg([('Sum','sum'),('Average','mean')])\n",
    "           .add_prefix('activeMembers')\n",
    "           .reset_index()\n",
    ")"
   ]
  },
  {
   "cell_type": "code",
   "execution_count": 127,
   "metadata": {},
   "outputs": [
    {
     "data": {
      "text/html": [
       "<div>\n",
       "<style scoped>\n",
       "    .dataframe tbody tr th:only-of-type {\n",
       "        vertical-align: middle;\n",
       "    }\n",
       "\n",
       "    .dataframe tbody tr th {\n",
       "        vertical-align: top;\n",
       "    }\n",
       "\n",
       "    .dataframe thead th {\n",
       "        text-align: right;\n",
       "    }\n",
       "</style>\n",
       "<table border=\"1\" class=\"dataframe\">\n",
       "  <thead>\n",
       "    <tr style=\"text-align: right;\">\n",
       "      <th></th>\n",
       "      <th>Sum</th>\n",
       "      <th>Average</th>\n",
       "    </tr>\n",
       "    <tr>\n",
       "      <th>date</th>\n",
       "      <th></th>\n",
       "      <th></th>\n",
       "    </tr>\n",
       "  </thead>\n",
       "  <tbody>\n",
       "    <tr>\n",
       "      <th>2021-04</th>\n",
       "      <td>-73.0</td>\n",
       "      <td>-12.166667</td>\n",
       "    </tr>\n",
       "    <tr>\n",
       "      <th>2021-05</th>\n",
       "      <td>409.0</td>\n",
       "      <td>19.476190</td>\n",
       "    </tr>\n",
       "    <tr>\n",
       "      <th>2021-06</th>\n",
       "      <td>-45.0</td>\n",
       "      <td>-2.142857</td>\n",
       "    </tr>\n",
       "    <tr>\n",
       "      <th>2021-07</th>\n",
       "      <td>-126.0</td>\n",
       "      <td>-4.344828</td>\n",
       "    </tr>\n",
       "    <tr>\n",
       "      <th>2021-08</th>\n",
       "      <td>354.0</td>\n",
       "      <td>23.600000</td>\n",
       "    </tr>\n",
       "    <tr>\n",
       "      <th>2021-09</th>\n",
       "      <td>356.0</td>\n",
       "      <td>20.941176</td>\n",
       "    </tr>\n",
       "    <tr>\n",
       "      <th>2021-10</th>\n",
       "      <td>1041.0</td>\n",
       "      <td>86.750000</td>\n",
       "    </tr>\n",
       "    <tr>\n",
       "      <th>2021-11</th>\n",
       "      <td>468.0</td>\n",
       "      <td>20.347826</td>\n",
       "    </tr>\n",
       "    <tr>\n",
       "      <th>2021-12</th>\n",
       "      <td>738.0</td>\n",
       "      <td>36.900000</td>\n",
       "    </tr>\n",
       "    <tr>\n",
       "      <th>2021-13</th>\n",
       "      <td>-57.0</td>\n",
       "      <td>-2.850000</td>\n",
       "    </tr>\n",
       "    <tr>\n",
       "      <th>2021-14</th>\n",
       "      <td>406.0</td>\n",
       "      <td>101.500000</td>\n",
       "    </tr>\n",
       "  </tbody>\n",
       "</table>\n",
       "</div>"
      ],
      "text/plain": [
       "            Sum     Average\n",
       "date                       \n",
       "2021-04   -73.0  -12.166667\n",
       "2021-05   409.0   19.476190\n",
       "2021-06   -45.0   -2.142857\n",
       "2021-07  -126.0   -4.344828\n",
       "2021-08   354.0   23.600000\n",
       "2021-09   356.0   20.941176\n",
       "2021-10  1041.0   86.750000\n",
       "2021-11   468.0   20.347826\n",
       "2021-12   738.0   36.900000\n",
       "2021-13   -57.0   -2.850000\n",
       "2021-14   406.0  101.500000"
      ]
     },
     "execution_count": 127,
     "metadata": {},
     "output_type": "execute_result"
    }
   ],
   "source": [
    "(date_close.groupby([date_close.date.dt.strftime('%Y-%W')], sort=True)\n",
    "           .income.agg([('Sum','sum'),('Average','mean')])\n",
    "#           .reset_index()\n",
    ")"
   ]
  },
  {
   "cell_type": "code",
   "execution_count": 131,
   "metadata": {},
   "outputs": [],
   "source": [
    "qqq=date_close.groupby([date_close.date.dt.strftime('%Y-%W')], sort=True).income.agg([('Sum','sum'),('Average','mean')])"
   ]
  },
  {
   "cell_type": "code",
   "execution_count": 134,
   "metadata": {},
   "outputs": [
    {
     "data": {
      "text/plain": [
       "26.18280378527314"
      ]
     },
     "execution_count": 134,
     "metadata": {},
     "output_type": "execute_result"
    }
   ],
   "source": [
    "np.mean(qqq['Average'])"
   ]
  },
  {
   "cell_type": "code",
   "execution_count": 135,
   "metadata": {},
   "outputs": [
    {
     "data": {
      "text/html": [
       "<div>\n",
       "<style scoped>\n",
       "    .dataframe tbody tr th:only-of-type {\n",
       "        vertical-align: middle;\n",
       "    }\n",
       "\n",
       "    .dataframe tbody tr th {\n",
       "        vertical-align: top;\n",
       "    }\n",
       "\n",
       "    .dataframe thead th {\n",
       "        text-align: right;\n",
       "    }\n",
       "</style>\n",
       "<table border=\"1\" class=\"dataframe\">\n",
       "  <thead>\n",
       "    <tr style=\"text-align: right;\">\n",
       "      <th></th>\n",
       "      <th>date</th>\n",
       "      <th>price</th>\n",
       "      <th>amount</th>\n",
       "      <th>action</th>\n",
       "      <th>sum</th>\n",
       "      <th>status</th>\n",
       "      <th>source</th>\n",
       "      <th>income</th>\n",
       "      <th>balance</th>\n",
       "    </tr>\n",
       "  </thead>\n",
       "  <tbody>\n",
       "    <tr>\n",
       "      <th>1</th>\n",
       "      <td>2021-01-28 14:00:00</td>\n",
       "      <td>265.80</td>\n",
       "      <td>100</td>\n",
       "      <td>sell</td>\n",
       "      <td>26580.0</td>\n",
       "      <td>close</td>\n",
       "      <td>stop_loss</td>\n",
       "      <td>-80.0</td>\n",
       "      <td>-80.0</td>\n",
       "    </tr>\n",
       "    <tr>\n",
       "      <th>3</th>\n",
       "      <td>2021-01-28 15:00:00</td>\n",
       "      <td>265.47</td>\n",
       "      <td>100</td>\n",
       "      <td>sell</td>\n",
       "      <td>26547.0</td>\n",
       "      <td>close</td>\n",
       "      <td>stop_loss</td>\n",
       "      <td>-80.0</td>\n",
       "      <td>-160.0</td>\n",
       "    </tr>\n",
       "    <tr>\n",
       "      <th>5</th>\n",
       "      <td>2021-01-29 07:00:00</td>\n",
       "      <td>264.20</td>\n",
       "      <td>100</td>\n",
       "      <td>sell</td>\n",
       "      <td>26420.0</td>\n",
       "      <td>close</td>\n",
       "      <td>stop_loss</td>\n",
       "      <td>-80.0</td>\n",
       "      <td>-240.0</td>\n",
       "    </tr>\n",
       "    <tr>\n",
       "      <th>7</th>\n",
       "      <td>2021-01-29 12:00:00</td>\n",
       "      <td>261.47</td>\n",
       "      <td>100</td>\n",
       "      <td>buy</td>\n",
       "      <td>-26147.0</td>\n",
       "      <td>close</td>\n",
       "      <td>strategy</td>\n",
       "      <td>69.0</td>\n",
       "      <td>-171.0</td>\n",
       "    </tr>\n",
       "    <tr>\n",
       "      <th>9</th>\n",
       "      <td>2021-01-29 13:00:00</td>\n",
       "      <td>260.25</td>\n",
       "      <td>100</td>\n",
       "      <td>sell</td>\n",
       "      <td>26025.0</td>\n",
       "      <td>close</td>\n",
       "      <td>stop_loss</td>\n",
       "      <td>-78.0</td>\n",
       "      <td>-249.0</td>\n",
       "    </tr>\n",
       "    <tr>\n",
       "      <th>...</th>\n",
       "      <td>...</td>\n",
       "      <td>...</td>\n",
       "      <td>...</td>\n",
       "      <td>...</td>\n",
       "      <td>...</td>\n",
       "      <td>...</td>\n",
       "      <td>...</td>\n",
       "      <td>...</td>\n",
       "      <td>...</td>\n",
       "    </tr>\n",
       "    <tr>\n",
       "      <th>367</th>\n",
       "      <td>2021-04-02 18:00:00</td>\n",
       "      <td>291.65</td>\n",
       "      <td>100</td>\n",
       "      <td>sell</td>\n",
       "      <td>29165.0</td>\n",
       "      <td>close</td>\n",
       "      <td>strategy</td>\n",
       "      <td>189.0</td>\n",
       "      <td>3065.0</td>\n",
       "    </tr>\n",
       "    <tr>\n",
       "      <th>369</th>\n",
       "      <td>2021-04-05 13:00:00</td>\n",
       "      <td>288.59</td>\n",
       "      <td>100</td>\n",
       "      <td>buy</td>\n",
       "      <td>-28859.0</td>\n",
       "      <td>close</td>\n",
       "      <td>strategy</td>\n",
       "      <td>313.0</td>\n",
       "      <td>3378.0</td>\n",
       "    </tr>\n",
       "    <tr>\n",
       "      <th>371</th>\n",
       "      <td>2021-04-06 07:00:00</td>\n",
       "      <td>287.36</td>\n",
       "      <td>100</td>\n",
       "      <td>sell</td>\n",
       "      <td>28736.0</td>\n",
       "      <td>close</td>\n",
       "      <td>stop_loss</td>\n",
       "      <td>-86.0</td>\n",
       "      <td>3292.0</td>\n",
       "    </tr>\n",
       "    <tr>\n",
       "      <th>373</th>\n",
       "      <td>2021-04-06 14:00:00</td>\n",
       "      <td>283.10</td>\n",
       "      <td>100</td>\n",
       "      <td>buy</td>\n",
       "      <td>-28310.0</td>\n",
       "      <td>close</td>\n",
       "      <td>strategy</td>\n",
       "      <td>181.0</td>\n",
       "      <td>3473.0</td>\n",
       "    </tr>\n",
       "    <tr>\n",
       "      <th>375</th>\n",
       "      <td>2021-04-06 16:00:00</td>\n",
       "      <td>282.22</td>\n",
       "      <td>100</td>\n",
       "      <td>buy</td>\n",
       "      <td>-28222.0</td>\n",
       "      <td>close</td>\n",
       "      <td>strategy</td>\n",
       "      <td>-2.0</td>\n",
       "      <td>3471.0</td>\n",
       "    </tr>\n",
       "  </tbody>\n",
       "</table>\n",
       "<p>188 rows × 9 columns</p>\n",
       "</div>"
      ],
      "text/plain": [
       "                   date   price  amount action      sum status     source  \\\n",
       "1   2021-01-28 14:00:00  265.80     100   sell  26580.0  close  stop_loss   \n",
       "3   2021-01-28 15:00:00  265.47     100   sell  26547.0  close  stop_loss   \n",
       "5   2021-01-29 07:00:00  264.20     100   sell  26420.0  close  stop_loss   \n",
       "7   2021-01-29 12:00:00  261.47     100    buy -26147.0  close   strategy   \n",
       "9   2021-01-29 13:00:00  260.25     100   sell  26025.0  close  stop_loss   \n",
       "..                  ...     ...     ...    ...      ...    ...        ...   \n",
       "367 2021-04-02 18:00:00  291.65     100   sell  29165.0  close   strategy   \n",
       "369 2021-04-05 13:00:00  288.59     100    buy -28859.0  close   strategy   \n",
       "371 2021-04-06 07:00:00  287.36     100   sell  28736.0  close  stop_loss   \n",
       "373 2021-04-06 14:00:00  283.10     100    buy -28310.0  close   strategy   \n",
       "375 2021-04-06 16:00:00  282.22     100    buy -28222.0  close   strategy   \n",
       "\n",
       "     income  balance  \n",
       "1     -80.0    -80.0  \n",
       "3     -80.0   -160.0  \n",
       "5     -80.0   -240.0  \n",
       "7      69.0   -171.0  \n",
       "9     -78.0   -249.0  \n",
       "..      ...      ...  \n",
       "367   189.0   3065.0  \n",
       "369   313.0   3378.0  \n",
       "371   -86.0   3292.0  \n",
       "373   181.0   3473.0  \n",
       "375    -2.0   3471.0  \n",
       "\n",
       "[188 rows x 9 columns]"
      ]
     },
     "execution_count": 135,
     "metadata": {},
     "output_type": "execute_result"
    }
   ],
   "source": [
    "date_close"
   ]
  },
  {
   "cell_type": "code",
   "execution_count": null,
   "metadata": {},
   "outputs": [],
   "source": []
  }
 ],
 "metadata": {
  "kernelspec": {
   "display_name": "Python 3",
   "language": "python",
   "name": "python3"
  },
  "language_info": {
   "codemirror_mode": {
    "name": "ipython",
    "version": 3
   },
   "file_extension": ".py",
   "mimetype": "text/x-python",
   "name": "python",
   "nbconvert_exporter": "python",
   "pygments_lexer": "ipython3",
   "version": "3.7.7"
  }
 },
 "nbformat": 4,
 "nbformat_minor": 4
}
